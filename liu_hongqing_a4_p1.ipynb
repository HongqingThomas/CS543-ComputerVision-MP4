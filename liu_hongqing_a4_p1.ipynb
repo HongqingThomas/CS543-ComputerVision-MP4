{
 "cells": [
  {
   "cell_type": "markdown",
   "metadata": {},
   "source": [
    "# Part 3: Single-View Geometry\n",
    "\n",
    "## Usage\n",
    "This code snippet provides an overall code structure and some interactive plot interfaces for the *Single-View Geometry* section of Assignment 3. In [main function](#Main-function), we outline the required functionalities step by step. Some of the functions which involves interactive plots are already provided, but [the rest](#Your-implementation) are left for you to implement.\n",
    "\n",
    "## Package installation\n",
    "- In this code, we use `tkinter` package. Installation instruction can be found [here](https://anaconda.org/anaconda/tk)."
   ]
  },
  {
   "cell_type": "markdown",
   "metadata": {},
   "source": [
    "# Common imports"
   ]
  },
  {
   "cell_type": "code",
   "execution_count": 1,
   "metadata": {},
   "outputs": [],
   "source": [
    "%matplotlib tk\n",
    "import matplotlib.pyplot as plt\n",
    "import numpy as np\n",
    "from sympy import *\n",
    "from PIL import Image"
   ]
  },
  {
   "cell_type": "markdown",
   "metadata": {},
   "source": [
    "# Provided functions"
   ]
  },
  {
   "cell_type": "code",
   "execution_count": 2,
   "metadata": {},
   "outputs": [],
   "source": [
    "def get_input_lines(im, min_lines=3):\n",
    "    \"\"\"\n",
    "    Allows user to input line segments; computes centers and directions.\n",
    "    Inputs:\n",
    "        im: np.ndarray of shape (height, width, 3)\n",
    "        min_lines: minimum number of lines required\n",
    "    Returns:\n",
    "        n: number of lines from input\n",
    "        lines: np.ndarray of shape (3, n)\n",
    "            where each column denotes the parameters of the line equation\n",
    "        centers: np.ndarray of shape (3, n)\n",
    "            where each column denotes the homogeneous coordinates of the centers\n",
    "    \"\"\"\n",
    "    n = 0\n",
    "    lines = np.zeros((3, 0))\n",
    "    centers = np.zeros((3, 0))\n",
    "\n",
    "    plt.figure()\n",
    "    plt.imshow(im)\n",
    "    plt.show()\n",
    "    print('Set at least %d lines to compute vanishing point' % min_lines)\n",
    "    while True:\n",
    "        print('Click the two endpoints, use the right key to undo, and use the middle key to stop input')\n",
    "        clicked = plt.ginput(2, timeout=0, show_clicks=True)\n",
    "        if not clicked or len(clicked) < 2:\n",
    "            if n < min_lines:\n",
    "                print('Need at least %d lines, you have %d now' % (min_lines, n))\n",
    "                continue\n",
    "            else:\n",
    "                # Stop getting lines if number of lines is enough\n",
    "                break\n",
    "\n",
    "        # Unpack user inputs and save as homogeneous coordinates\n",
    "        pt1 = np.array([clicked[0][0], clicked[0][1], 1])\n",
    "        pt2 = np.array([clicked[1][0], clicked[1][1], 1])\n",
    "        # Get line equation using cross product\n",
    "        # Line equation: line[0] * x + line[1] * y + line[2] = 0\n",
    "        line = np.cross(pt1, pt2)\n",
    "        lines = np.append(lines, line.reshape((3, 1)), axis=1)\n",
    "        # Get center coordinate of the line segment\n",
    "        center = (pt1 + pt2) / 2\n",
    "        centers = np.append(centers, center.reshape((3, 1)), axis=1)\n",
    "\n",
    "        # Plot line segment\n",
    "        plt.plot([pt1[0], pt2[0]], [pt1[1], pt2[1]], color='b')\n",
    "\n",
    "        n += 1\n",
    "\n",
    "    return n, lines, centers"
   ]
  },
  {
   "cell_type": "code",
   "execution_count": 3,
   "metadata": {},
   "outputs": [],
   "source": [
    "def plot_lines_and_vp(im, lines, vp):\n",
    "    \"\"\"\n",
    "    Plots user-input lines and the calculated vanishing point.\n",
    "    Inputs:\n",
    "        im: np.ndarray of shape (height, width, 3)\n",
    "        lines: np.ndarray of shape (3, n)\n",
    "            where each column denotes the parameters of the line equation\n",
    "        vp: np.ndarray of shape (3, )\n",
    "    \"\"\"\n",
    "    bx1 = min(1, vp[0] / vp[2]) - 10\n",
    "    bx2 = max(im.shape[1], vp[0] / vp[2]) + 10\n",
    "    by1 = min(1, vp[1] / vp[2]) - 10\n",
    "    by2 = max(im.shape[0], vp[1] / vp[2]) + 10\n",
    "\n",
    "    plt.figure()\n",
    "    plt.imshow(im)\n",
    "    for i in range(lines.shape[1]):\n",
    "        if lines[0, i] < lines[1, i]:\n",
    "            pt1 = np.cross(np.array([1, 0, -bx1]), lines[:, i])\n",
    "            pt2 = np.cross(np.array([1, 0, -bx2]), lines[:, i])\n",
    "        else:\n",
    "            pt1 = np.cross(np.array([0, 1, -by1]), lines[:, i])\n",
    "            pt2 = np.cross(np.array([0, 1, -by2]), lines[:, i])\n",
    "        pt1 = pt1 / pt1[2]\n",
    "        pt2 = pt2 / pt2[2]\n",
    "        plt.plot([pt1[0], pt2[0]], [pt1[1], pt2[1]], 'g')\n",
    "\n",
    "    plt.plot(vp[0] / vp[2], vp[1] / vp[2], 'ro')\n",
    "    plt.show()"
   ]
  },
  {
   "cell_type": "code",
   "execution_count": 4,
   "metadata": {},
   "outputs": [],
   "source": [
    "def get_top_and_bottom_coordinates(im, obj):\n",
    "    \"\"\"\n",
    "    For a specific object, prompts user to record the top coordinate and the bottom coordinate in the image.\n",
    "    Inputs:\n",
    "        im: np.ndarray of shape (height, width, 3)\n",
    "        obj: string, object name\n",
    "    Returns:\n",
    "        coord: np.ndarray of shape (3, 2)\n",
    "            where coord[:, 0] is the homogeneous coordinate of the top of the object and coord[:, 1] is the homogeneous\n",
    "            coordinate of the bottom\n",
    "    \"\"\"\n",
    "    plt.figure()\n",
    "    plt.imshow(im)\n",
    "\n",
    "    print('Click on the top coordinate of %s' % obj)\n",
    "    clicked = plt.ginput(1, timeout=0, show_clicks=True)\n",
    "    x1, y1 = clicked[0]\n",
    "    # Uncomment this line to enable a vertical line to help align the two coordinates\n",
    "    # plt.plot([x1, x1], [0, im.shape[0]], 'b')\n",
    "    print('Click on the bottom coordinate of %s' % obj)\n",
    "    clicked = plt.ginput(1, timeout=0, show_clicks=True)\n",
    "    x2, y2 = clicked[0]\n",
    "\n",
    "    plt.plot([x1, x2], [y1, y2], 'b')\n",
    "\n",
    "    return np.array([[x1, x2], [y1, y2], [1, 1]])"
   ]
  },
  {
   "cell_type": "markdown",
   "metadata": {},
   "source": [
    "# Your implementation"
   ]
  },
  {
   "cell_type": "code",
   "execution_count": 5,
   "metadata": {},
   "outputs": [],
   "source": [
    "def get_vanishing_point(lines):\n",
    "    \"\"\"\n",
    "    Solves for the vanishing point using the user-input lines.\n",
    "    \"\"\"\n",
    "    s_m = lines.dot(lines.T)\n",
    "    w, v = np.linalg.eig(s_m)\n",
    "    _min = np.argmin(w)\n",
    "    vp = v[:, _min]\n",
    "    vp = vp / vp[-1]\n",
    "    return vp"
   ]
  },
  {
   "cell_type": "code",
   "execution_count": 6,
   "metadata": {},
   "outputs": [],
   "source": [
    "def get_horizon_line(vpts):\n",
    "    \"\"\"\n",
    "    Calculates the ground horizon line.\n",
    "    \"\"\"\n",
    "    pt1 = vpts[:, 0]\n",
    "    pt2 = vpts[:, 1]\n",
    "    horizon_line = np.cross(pt1, pt2)\n",
    "    # Normalize.\n",
    "    scale = np.sqrt(horizon_line[0]**2 + horizon_line[1]**2)\n",
    "    horizon_line = horizon_line / scale\n",
    "    return horizon_line"
   ]
  },
  {
   "cell_type": "code",
   "execution_count": 7,
   "metadata": {},
   "outputs": [],
   "source": [
    "def plot_horizon_line(line, img):\n",
    "    \"\"\"\n",
    "    Plots the horizon line.\n",
    "    \"\"\"\n",
    "    x = np.arange(img.shape[1])\n",
    "    y = (- line[2] - line[0] * x) / line[1]\n",
    "    plt.figure()\n",
    "    plt.imshow(im)\n",
    "    plt.plot(x, y, 'r', linestyle='-', linewidth=3)\n",
    "    plt.show()"
   ]
  },
  {
   "cell_type": "code",
   "execution_count": 8,
   "metadata": {},
   "outputs": [],
   "source": [
    "def get_camera_parameters(vpts):\n",
    "    \"\"\"\n",
    "    Computes the camera parameters. Hint: The SymPy package is suitable for this.\n",
    "    \"\"\"\n",
    "    vp1 = vpts[:, 0].reshape(3,1)\n",
    "    vp2 = vpts[:, 1].reshape(3,1)\n",
    "    vp3 = vpts[:, 2].reshape(3,1)\n",
    "    \n",
    "    f, px, py = symbols('f, px. py')\n",
    "    K_i_T = Matrix([[1/f, 0, 0], [0, 1/f, 0], [-px/f, -py/f, 1]])\n",
    "    K_i = Matrix([[1/f, 0, -px/f], [0, 1/f, -py/f], [0, 0, 1]])\n",
    "    \n",
    "    eq1 = Eq((vp1.T @ K_i_T @ K_i @ vp2)[0], 0)\n",
    "    eq2 = Eq((vp1.T @ K_i_T @ K_i @ vp3)[0], 0)\n",
    "    eq3 = Eq((vp2.T @ K_i_T @ K_i @ vp3)[0], 0)\n",
    "    \n",
    "    f, u, v = solve((eq1,eq2,eq3), (f,px,py))[0]\n",
    "    \n",
    "    return f, u, v"
   ]
  },
  {
   "cell_type": "code",
   "execution_count": 9,
   "metadata": {},
   "outputs": [],
   "source": [
    "def get_rotation_matrix(vpts, f, u, v):\n",
    "    \"\"\"\n",
    "    Computes the rotation matrix using the camera parameters.\n",
    "    \"\"\"\n",
    "    Z = vpts[:, 0].reshape(3,1)\n",
    "    X = vpts[:, 1].reshape(3,1)\n",
    "    Y = vpts[:, 2].reshape(3,1)\n",
    "    K = np.array([[f, 0, u], [0, f, v], [0, 0, 1]], dtype=float)\n",
    "    K_inv = np.linalg.inv(K)\n",
    "    \n",
    "    r1 = K_inv.dot(X)\n",
    "    r2 = K_inv.dot(Y)\n",
    "    r3 = K_inv.dot(Z)\n",
    "    \n",
    "    r1 = r1 / np.linalg.norm(r1)\n",
    "    r2 = r2 / np.linalg.norm(r2)\n",
    "    r3 = r3 / np.linalg.norm(r3)\n",
    "    \n",
    "    R = np.concatenate((r1, r2, r3), axis=1)\n",
    "    return R"
   ]
  },
  {
   "cell_type": "code",
   "execution_count": 10,
   "metadata": {},
   "outputs": [],
   "source": [
    "def estimate_height(im,person, obj, vpts, horizon_line, ref_height):\n",
    "    \"\"\"\n",
    "    Estimates height for a specific object using the recorded coordinates. You might need to plot additional images here for\n",
    "    your report.\n",
    "    \"\"\"\n",
    "    vp1 = vpts[:, 0].reshape(3,1)\n",
    "    vp2 = vpts[:, 1].reshape(3,1)\n",
    "    vp3 = vpts[:, 2].reshape(3,1)\n",
    "    #可视化地平线\n",
    "    fig, ax = plt.subplots()\n",
    "    ax.set_aspect('equal')\n",
    "    ax.imshow(im)\n",
    "    ax.plot(vp1[0],vp1[1],'+r')\n",
    "    ax.plot(vp2[0],vp2[1],'+r')\n",
    "    ax.plot([vp1[0], vp2[0]], [vp1[1], vp2[1]], 'g')\n",
    "    #可视化人和物\n",
    "    ax.plot([person[0][0], person[0][1]], [person[1][0], person[1][1]], 'g')\n",
    "    ax.plot([obj[0][0], obj[0][1]], [obj[1][0], obj[1][1]], 'y')\n",
    "    b0 = np.array([person[0][0], person[1][0], 1])\n",
    "    t0 = np.array([person[0][1], person[1][1], 1])\n",
    "    b = np.array([obj[0][0], obj[1][0], 1])#bt可能反了\n",
    "    r = np.array([obj[0][1], obj[1][1], 1])\n",
    "    #计算目标高度\n",
    "    img_height_tar = abs(obj[1][0] - obj[1][1])\n",
    "    #求bottom_line\n",
    "    bottom_line = np.real(np.cross(b0.T, b.T))\n",
    "    v = np.real(np.cross(bottom_line, horizon_line))#这里可能有问题horizonline\n",
    "    v = v / v[2]\n",
    "    #求top_line\n",
    "    top_line = np.real(np.cross(v.T, t0.T))\n",
    "    vertical_line = np.real(np.cross(r.T, b.T));\n",
    "    t = np.real(np.cross(top_line.T, vertical_line.T))#这里可能有问题horizonline\n",
    "    t = t / t[2]\n",
    "    ax.plot([v[0], b0[0]], [v[1], b0[1]], 'm')\n",
    "    ax.plot([v[0], t0[0]], [v[1], t0[1]], 'm')\n",
    "    ax.plot([v[0], t[0]], [v[1], t[1]], 'm')\n",
    "    ax.plot([b[0], t[0]], [b[1], t[1]], 'c')\n",
    "    ax.plot([b[0], v[0]], [b[1], v[1]], 'm')\n",
    "    #计算高度差\n",
    "    left_up = np.linalg.norm(t - b) * np.linalg.norm(vp3.T - r)\n",
    "    left_down = np.linalg.norm(r - b) * np.linalg.norm(vp3.T - t)\n",
    "    H = ref_height\n",
    "    height_tar = (H * left_down) / left_up\n",
    "    plt.show()\n",
    "    return height_tar"
   ]
  },
  {
   "cell_type": "markdown",
   "metadata": {},
   "source": [
    "# Main function"
   ]
  },
  {
   "cell_type": "code",
   "execution_count": 11,
   "metadata": {},
   "outputs": [
    {
     "name": "stdout",
     "output_type": "stream",
     "text": [
      "Getting vanishing point 0\n",
      "Set at least 3 lines to compute vanishing point\n",
      "Click the two endpoints, use the right key to undo, and use the middle key to stop input\n",
      "Click the two endpoints, use the right key to undo, and use the middle key to stop input\n",
      "Click the two endpoints, use the right key to undo, and use the middle key to stop input\n",
      "Click the two endpoints, use the right key to undo, and use the middle key to stop input\n",
      "lines:  [[-2.60276108e+01 -4.07098528e+01  1.40148674e+01]\n",
      " [-4.54482127e+02 -5.01198352e+02 -4.15774398e+02]\n",
      " [ 9.11341588e+04  9.61216013e+04  9.16597040e+04]]\n",
      "n: 3\n",
      "Getting vanishing point 1\n",
      "Set at least 3 lines to compute vanishing point\n",
      "Click the two endpoints, use the right key to undo, and use the middle key to stop input\n",
      "Click the two endpoints, use the right key to undo, and use the middle key to stop input\n",
      "Click the two endpoints, use the right key to undo, and use the middle key to stop input\n",
      "Click the two endpoints, use the right key to undo, and use the middle key to stop input\n",
      "lines:  [[-2.66949854e+01  2.66949854e+00  2.80297347e+01]\n",
      " [ 1.29470679e+02  1.14788437e+02  7.07417114e+01]\n",
      " [ 6.17800235e+03 -3.05179414e+04 -5.28218501e+04]]\n",
      "n: 3\n",
      "Getting vanishing point 2\n",
      "Set at least 3 lines to compute vanishing point\n",
      "Click the two endpoints, use the right key to undo, and use the middle key to stop input\n",
      "Click the two endpoints, use the right key to undo, and use the middle key to stop input\n",
      "Click the two endpoints, use the right key to undo, and use the middle key to stop input\n",
      "Click the two endpoints, use the right key to undo, and use the middle key to stop input\n",
      "lines:  [[ 1.76854279e+02  1.36811800e+02  1.64174160e+02]\n",
      " [ 9.34324490e+00 -6.67374636e-01 -7.34112099e+00]\n",
      " [-1.48151775e+05 -6.47604846e+04 -1.43593726e+04]]\n",
      "n: 3\n"
     ]
    }
   ],
   "source": [
    "im = np.asarray(Image.open('E:/UIUC_course/FALL_SEMESTER/Computer_Vision/MP4/MP4_part2_data/MP4_part2_data/CSL.jpg'))\n",
    "\n",
    "# Part 1\n",
    "# Get vanishing points for each of the directions\n",
    "num_vpts = 3\n",
    "vpts = np.zeros((3, num_vpts))\n",
    "for i in range(num_vpts):\n",
    "    print('Getting vanishing point %d' % i)\n",
    "    # Get at least three lines from user input\n",
    "    n, lines, centers = get_input_lines(im)\n",
    "    print(\"lines: \", lines)\n",
    "    print(\"n:\", n)\n",
    "    # <YOUR IMPLEMENTATION> Solve for vanishing point\n",
    "    vpts[:, i] = get_vanishing_point(lines)\n",
    "    # Plot the lines and the vanishing point\n",
    "    plot_lines_and_vp(im, lines, vpts[:, i])\n",
    "\n",
    "# <YOUR IMPLEMENTATION> Get the ground horizon line\n",
    "horizon_line = get_horizon_line(vpts)\n",
    "# <YOUR IMPLEMENTATION> Plot the ground horizon line\n",
    "plot_horizon_line(horizon_line,im)"
   ]
  },
  {
   "cell_type": "code",
   "execution_count": 12,
   "metadata": {},
   "outputs": [
    {
     "name": "stdout",
     "output_type": "stream",
     "text": [
      "horizon_line:  [-1.00467722e-02  9.99949530e-01 -2.15219016e+02]\n",
      "vpts:  [[-2.45010665e+02  1.32478877e+03  4.50809524e+02]\n",
      " [ 2.12768188e+02  2.28540401e+02  7.67276174e+03]\n",
      " [ 1.00000000e+00  1.00000000e+00  1.00000000e+00]]\n",
      "a:  (3, 1)\n",
      "c:  [[-245.01066458]\n",
      " [ 212.76818803]\n",
      " [   1.        ]]\n",
      "b:  [[-245.01066458]\n",
      " [ 212.76818803]\n",
      " [   1.        ]]\n"
     ]
    }
   ],
   "source": [
    "print(\"horizon_line: \", horizon_line)\n",
    "print(\"vpts: \", vpts)\n",
    "print(\"a: \", vpts[:,0][:,np.newaxis].shape)\n",
    "print(\"c: \", vpts[:,0][:,np.newaxis])\n",
    "print(\"b: \", vpts[:,0].reshape(3,1))"
   ]
  },
  {
   "cell_type": "code",
   "execution_count": 13,
   "metadata": {},
   "outputs": [
    {
     "data": {
      "text/plain": [
       "1.0"
      ]
     },
     "execution_count": 13,
     "metadata": {},
     "output_type": "execute_result"
    }
   ],
   "source": [
    "(horizon_line[0])**2 + (horizon_line[1])**2"
   ]
  },
  {
   "cell_type": "code",
   "execution_count": 14,
   "metadata": {},
   "outputs": [
    {
     "name": "stdout",
     "output_type": "stream",
     "text": [
      "-780.447080083736 524.854039253718 303.153165312346\n"
     ]
    }
   ],
   "source": [
    "# Part 2\n",
    "# <YOUR IMPLEMENTATION> Solve for the camera parameters (f, u, v)\n",
    "f,u,v = get_camera_parameters(vpts)\n",
    "print(f,u,v)"
   ]
  },
  {
   "cell_type": "code",
   "execution_count": 15,
   "metadata": {},
   "outputs": [
    {
     "name": "stdout",
     "output_type": "stream",
     "text": [
      "[[-0.71418181  0.00999091  0.69988893]\n",
      " [ 0.06661428 -0.99438961  0.08216956]\n",
      " [ 0.69678323  0.10530661  0.70950944]]\n"
     ]
    }
   ],
   "source": [
    "# Part 3\n",
    "# <YOUR IMPLEMENTATION> Solve for the rotation matrix\n",
    "R = get_rotation_matrix(vpts, f, u, v)\n",
    "print(R)"
   ]
  },
  {
   "cell_type": "code",
   "execution_count": 17,
   "metadata": {},
   "outputs": [
    {
     "name": "stdout",
     "output_type": "stream",
     "text": [
      "Click on the top coordinate of person\n",
      "Click on the bottom coordinate of person\n",
      "Click on the top coordinate of CSL building\n",
      "Click on the bottom coordinate of CSL building\n",
      "Click on the top coordinate of the spike statue\n",
      "Click on the bottom coordinate of the spike statue\n",
      "Click on the top coordinate of the lamp posts\n",
      "Click on the bottom coordinate of the lamp posts\n",
      "{'person': array([[626.955812  , 624.9536881 ],\n",
      "       [466.68894009, 510.06829142],\n",
      "       [  1.        ,   1.        ]]), 'CSL building': array([[471.45752185, 470.12277258],\n",
      "       [152.3554866 , 303.1821543 ],\n",
      "       [  1.        ,   1.        ]]), 'the spike statue': array([[602.26295048, 598.9260773 ],\n",
      "       [193.06533939, 474.03006109],\n",
      "       [  1.        ,   1.        ]]), 'the lamp posts': array([[711.71239076, 705.70601904],\n",
      "       [325.87289192, 402.62097505],\n",
      "       [  1.        ,   1.        ]])}\n"
     ]
    }
   ],
   "source": [
    "# Part 4\n",
    "# Record image coordinates for each object and store in map\n",
    "im = np.asarray(Image.open('E:/UIUC_course/FALL_SEMESTER/Computer_Vision/MP4/MP4_part2_data/MP4_part2_data/CSL.jpg'))\n",
    "objects = ('person', 'CSL building', 'the spike statue', 'the lamp posts')\n",
    "coords = dict()\n",
    "for obj in objects:\n",
    "    coords[obj] = get_top_and_bottom_coordinates(im, obj)\n",
    "\n",
    "print(coords)"
   ]
  },
  {
   "cell_type": "code",
   "execution_count": 18,
   "metadata": {},
   "outputs": [
    {
     "name": "stdout",
     "output_type": "stream",
     "text": [
      "Estimating height of CSL building\n",
      "2165.715775094404\n",
      "Estimating height of the spike statue\n",
      "7538.23264425335\n",
      "Estimating height of the lamp posts\n",
      "719.9196305093795\n"
     ]
    }
   ],
   "source": [
    "# <YOUR IMPLEMENTATION> Estimate heights\n",
    "for obj in objects[1:]:\n",
    "    print('Estimating height of %s' % obj)\n",
    "#     5 feet, 6 inches = 167.64cm\n",
    "#     6 feet = 182.88cm\n",
    "    height = estimate_height(im, coords['person'], coords[obj], vpts, horizon_line, ref_height = 182.88)\n",
    "    print(height)"
   ]
  },
  {
   "cell_type": "code",
   "execution_count": 19,
   "metadata": {},
   "outputs": [
    {
     "name": "stdout",
     "output_type": "stream",
     "text": [
      "Estimating height of CSL building\n",
      "1985.2394605032034\n",
      "Estimating height of the spike statue\n",
      "6910.046590565572\n",
      "Estimating height of the lamp posts\n",
      "659.9263279669311\n"
     ]
    }
   ],
   "source": [
    "for obj in objects[1:]:\n",
    "    print('Estimating height of %s' % obj)\n",
    "#     5 feet, 6 inches = 167.64cm\n",
    "#     6 feet = 182.88cm\n",
    "    height = estimate_height(im, coords['person'], coords[obj], vpts, horizon_line, ref_height = 167.64)\n",
    "    print(height)"
   ]
  }
 ],
 "metadata": {
  "kernelspec": {
   "display_name": "Python 3 (ipykernel)",
   "language": "python",
   "name": "python3"
  },
  "language_info": {
   "codemirror_mode": {
    "name": "ipython",
    "version": 3
   },
   "file_extension": ".py",
   "mimetype": "text/x-python",
   "name": "python",
   "nbconvert_exporter": "python",
   "pygments_lexer": "ipython3",
   "version": "3.9.13"
  }
 },
 "nbformat": 4,
 "nbformat_minor": 2
}
